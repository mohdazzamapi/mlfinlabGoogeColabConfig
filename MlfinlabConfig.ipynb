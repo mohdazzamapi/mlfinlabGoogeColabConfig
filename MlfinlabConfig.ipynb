{
  "nbformat": 4,
  "nbformat_minor": 0,
  "metadata": {
    "colab": {
      "provenance": [],
      "mount_file_id": "1SU244S-4nb8OOYOff6329SoTSQxFbs4n",
      "authorship_tag": "ABX9TyOwi0EGayjYMO6b93agntWV",
      "include_colab_link": true
    },
    "kernelspec": {
      "name": "python3",
      "display_name": "Python 3"
    },
    "language_info": {
      "name": "python"
    }
  },
  "cells": [
    {
      "cell_type": "markdown",
      "metadata": {
        "id": "view-in-github",
        "colab_type": "text"
      },
      "source": [
        "<a href=\"https://colab.research.google.com/github/mohdazzamapi/mlfinlabGoogeColabConfig/blob/main/MlfinlabConfig.ipynb\" target=\"_parent\"><img src=\"https://colab.research.google.com/assets/colab-badge.svg\" alt=\"Open In Colab\"/></a>"
      ]
    },
    {
      "cell_type": "code",
      "execution_count": null,
      "metadata": {
        "id": "qkGeuFJc7oJX"
      },
      "outputs": [],
      "source": [
        "!which python\n",
        "!python --version"
      ]
    },
    {
      "cell_type": "code",
      "source": [
        "%env PYTHONPATH=\n",
        "\n",
        "!wget -c https://repo.anaconda.com/miniconda/Miniconda3-4.5.4-Linux-x86_64.sh\n",
        "!chmod +x Miniconda3-4.5.4-Linux-x86_64.sh\n",
        "!bash ./Miniconda3-4.5.4-Linux-x86_64.sh -b -f -p /usr/local\n",
        "\n",
        "!python --version\n",
        "import sys\n",
        "sys.path\n",
        "_ = (sys.path\n",
        "        .remove(\"/usr/lib/python310.zip\"))\n",
        "_ = (sys.path\n",
        "        .remove(\"/usr/lib/python3.10\"))\n",
        "_ = (sys.path\n",
        "        .remove(\"/usr/local/lib/python3.10/dist-packages\"))\n",
        "_ = (sys.path\n",
        "        .remove(\"/usr/lib/python3.10/lib-dynload\"))\n",
        "_ = (sys.path\n",
        "        .remove(\"/usr/local/lib/python3.10/dist-packages/IPython/extensions\"))\n",
        "_ = (sys.path\n",
        "        .append(\"/usr/local/lib/python3.6/site-packages\"))\n",
        "sys.path"
      ],
      "metadata": {
        "id": "h-rWIFqN8DLF"
      },
      "execution_count": null,
      "outputs": []
    },
    {
      "cell_type": "code",
      "source": [
        "!conda create -n myenv python=3.6 --yes"
      ],
      "metadata": {
        "id": "whAh9EVc9CdA"
      },
      "execution_count": null,
      "outputs": []
    },
    {
      "cell_type": "code",
      "source": [
        "!source activate myenv; conda install -c conda-forge scs --yes"
      ],
      "metadata": {
        "id": "3B2Dmsuc-GM3"
      },
      "execution_count": null,
      "outputs": []
    },
    {
      "cell_type": "code",
      "source": [
        "!source activate myenv; conda upgrade --all --yes"
      ],
      "metadata": {
        "id": "J1FuvUvo-X0f"
      },
      "execution_count": null,
      "outputs": []
    },
    {
      "cell_type": "code",
      "source": [
        "!git clone https://github.com/mohdazzamapi/mlfinlab.git"
      ],
      "metadata": {
        "id": "XsS_yqYNCRL8"
      },
      "execution_count": null,
      "outputs": []
    },
    {
      "cell_type": "code",
      "source": [
        "%cd /content/mlfinlab"
      ],
      "metadata": {
        "id": "KelM8Y_RRk96"
      },
      "execution_count": null,
      "outputs": []
    },
    {
      "cell_type": "code",
      "source": [
        "!source activate myenv; pip install jupyter\n"
      ],
      "metadata": {
        "id": "EOa_-XW7UDUn"
      },
      "execution_count": null,
      "outputs": []
    },
    {
      "cell_type": "code",
      "source": [
        "%cd /content/mlfinlab\n",
        "!source activate myenv; pip install ."
      ],
      "metadata": {
        "id": "2ieA_nstCZYQ"
      },
      "execution_count": null,
      "outputs": []
    },
    {
      "cell_type": "code",
      "source": [
        "!source activate myenv; pip install talos"
      ],
      "metadata": {
        "id": "4At0TLjkZ_wi"
      },
      "execution_count": null,
      "outputs": []
    },
    {
      "cell_type": "code",
      "source": [
        "%%bash\n",
        "source activate myenv\n",
        "conda list"
      ],
      "metadata": {
        "id": "EtbeWN67X3k5"
      },
      "execution_count": null,
      "outputs": []
    },
    {
      "cell_type": "code",
      "source": [
        "%%bash\n",
        "source activate myenv\n",
        "python\n",
        "import os\n",
        "import pandas as pd\n",
        "import mlfinlab.data_structures as ml\n",
        "\n",
        "path = '/content/drive/MyDrive/'\n",
        "filenames = [\n",
        "    'Trade_Book_API_2023-06-08.txt',\n",
        "    'Trade_Book_API_2023-06-09.txt',\n",
        "    'Trade_Book_API_2023-06-10.txt',\n",
        "    'Trade_Book_API_2023-06-11.txt',\n",
        "    'Trade_Book_API_2023-06-12.txt',\n",
        "    'Trade_Book_API_2023-06-13.txt'\n",
        "]\n",
        "dataframes = []\n",
        "for filename in filenames:\n",
        "    file_path = os.path.join(path, filename)\n",
        "    df = pd.read_csv(file_path,\n",
        "                 sep=',',\n",
        "                 header=0,\n",
        "                 parse_dates = True)\n",
        "    dataframes.append(df)\n",
        "\n",
        "combined_df = pd.concat(dataframes, ignore_index=True)\n",
        "combined_df = combined_df.sort_values('TimeStamp')\n",
        "combined_df = combined_df[combined_df['Volume'] > 0]\n",
        "columns_to_keep = ['TimeStamp', 'Price', 'Volume', 'BuyOrSell', 'MarketOrLimit', 'VWAP', 'Cumulative Volume', 'Cumulative Number of trades']\n",
        "combined_df = combined_df[columns_to_keep]\n",
        "combined_df.reset_index(inplace=True, drop=True)\n",
        "combined_df\n",
        "\n",
        "db_imbalance, thresh = ml.get_const_dollar_imbalance_bars(file_path_or_df=combined_df , expected_imbalance_window = 5000 , exp_num_ticks_init = 5000 , analyse_thresholds=True)"
      ],
      "metadata": {
        "colab": {
          "base_uri": "https://localhost:8080/"
        },
        "id": "iFQRt3TzREBL",
        "outputId": "80fbdac8-3e89-48d8-b674-8949ac3ff21f"
      },
      "execution_count": 15,
      "outputs": [
        {
          "output_type": "stream",
          "name": "stdout",
          "text": [
            "Reading data in batches:\n",
            "Batch number: 0\n",
            "Returning bars \n",
            "\n"
          ]
        }
      ]
    },
    {
      "cell_type": "code",
      "source": [
        "!which python"
      ],
      "metadata": {
        "colab": {
          "base_uri": "https://localhost:8080/"
        },
        "id": "PigegUExYre2",
        "outputId": "8c646b84-eb45-452c-9510-429e286f7d71"
      },
      "execution_count": 18,
      "outputs": [
        {
          "output_type": "stream",
          "name": "stdout",
          "text": [
            "/usr/local/bin/python\n"
          ]
        }
      ]
    },
    {
      "cell_type": "code",
      "source": [],
      "metadata": {
        "id": "UUSFI49kbI5y"
      },
      "execution_count": null,
      "outputs": []
    }
  ]
}