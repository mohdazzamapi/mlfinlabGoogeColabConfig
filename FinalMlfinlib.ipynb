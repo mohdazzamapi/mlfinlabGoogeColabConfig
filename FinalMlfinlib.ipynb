{
  "nbformat": 4,
  "nbformat_minor": 0,
  "metadata": {
    "colab": {
      "provenance": [],
      "mount_file_id": "1lTcSZyBLa3Js0Ma3876GEqwdER1fiSeD",
      "authorship_tag": "ABX9TyNaeuQsJyGGYVnVxcyCCnC2",
      "include_colab_link": true
    },
    "kernelspec": {
      "name": "python3",
      "display_name": "Python 3"
    },
    "language_info": {
      "name": "python"
    }
  },
  "cells": [
    {
      "cell_type": "markdown",
      "metadata": {
        "id": "view-in-github",
        "colab_type": "text"
      },
      "source": [
        "<a href=\"https://colab.research.google.com/github/mohdazzamapi/mlfinlabGoogeColabConfig/blob/main/FinalMlfinlib.ipynb\" target=\"_parent\"><img src=\"https://colab.research.google.com/assets/colab-badge.svg\" alt=\"Open In Colab\"/></a>"
      ]
    },
    {
      "cell_type": "markdown",
      "source": [
        "Do them individually before running u=your code. Since restart runtim for 2 of the cells is required"
      ],
      "metadata": {
        "id": "mHD5c6QUGH2_"
      }
    },
    {
      "cell_type": "code",
      "execution_count": null,
      "metadata": {
        "id": "qkGeuFJc7oJX"
      },
      "outputs": [],
      "source": [
        "!which python\n",
        "!python --version"
      ]
    },
    {
      "cell_type": "code",
      "source": [
        "%env PYTHONPATH=\n",
        "\n",
        "!wget -c https://repo.anaconda.com/miniconda/Miniconda3-4.5.4-Linux-x86_64.sh\n",
        "!chmod +x Miniconda3-4.5.4-Linux-x86_64.sh\n",
        "!bash ./Miniconda3-4.5.4-Linux-x86_64.sh -b -f -p /usr/local\n",
        "\n",
        "!python --version\n",
        "import sys\n",
        "sys.path\n",
        "_ = (sys.path\n",
        "        .remove(\"/usr/lib/python310.zip\"))\n",
        "_ = (sys.path\n",
        "        .remove(\"/usr/lib/python3.10\"))\n",
        "_ = (sys.path\n",
        "        .remove(\"/usr/local/lib/python3.10/dist-packages\"))\n",
        "_ = (sys.path\n",
        "        .remove(\"/usr/lib/python3.10/lib-dynload\"))\n",
        "_ = (sys.path\n",
        "        .remove(\"/usr/local/lib/python3.10/dist-packages/IPython/extensions\"))\n",
        "_ = (sys.path\n",
        "        .append(\"/usr/local/lib/python3.6/site-packages\"))\n",
        "sys.path"
      ],
      "metadata": {
        "id": "h-rWIFqN8DLF"
      },
      "execution_count": null,
      "outputs": []
    },
    {
      "cell_type": "code",
      "source": [
        "!conda install -c conda-forge scs python=3.6 --yes"
      ],
      "metadata": {
        "id": "eD7MZs2hkj-8"
      },
      "execution_count": null,
      "outputs": []
    },
    {
      "cell_type": "code",
      "source": [
        "!conda upgrade --all python=3.6 --yes"
      ],
      "metadata": {
        "id": "LoeelZB-koZg"
      },
      "execution_count": null,
      "outputs": []
    },
    {
      "cell_type": "code",
      "source": [
        "! pip install jupyter #Restart Runtime"
      ],
      "metadata": {
        "id": "SMtqQWR-pMgB"
      },
      "execution_count": null,
      "outputs": []
    },
    {
      "cell_type": "code",
      "source": [
        "! pip install talos #Restart Runtime"
      ],
      "metadata": {
        "id": "ZsVG9SzFpRDi"
      },
      "execution_count": null,
      "outputs": []
    },
    {
      "cell_type": "code",
      "source": [
        "!git clone https://github.com/mohdazzamapi/mlfinlab.git"
      ],
      "metadata": {
        "id": "R-ESUxEnqSz4"
      },
      "execution_count": null,
      "outputs": []
    },
    {
      "cell_type": "code",
      "source": [
        "%cd /content/mlfinlab\n",
        "!pip install ."
      ],
      "metadata": {
        "id": "XqghefrgqW2G"
      },
      "execution_count": null,
      "outputs": []
    },
    {
      "cell_type": "code",
      "source": [
        "import os\n",
        "import pandas as pd\n",
        "import mlfinlab.data_structures as ml\n",
        "\n",
        "path = '/content/drive/MyDrive/'\n",
        "filenames = [\n",
        "    'Trade_Book_API_2023-06-08.txt',\n",
        "    'Trade_Book_API_2023-06-09.txt',\n",
        "    'Trade_Book_API_2023-06-10.txt',\n",
        "    'Trade_Book_API_2023-06-11.txt',\n",
        "    'Trade_Book_API_2023-06-12.txt',\n",
        "    'Trade_Book_API_2023-06-13.txt'\n",
        "]\n",
        "dataframes = []\n",
        "for filename in filenames:\n",
        "    file_path = os.path.join(path, filename)\n",
        "    df = pd.read_csv(file_path,\n",
        "                 sep=',',\n",
        "                 header=0,\n",
        "                 parse_dates = True)\n",
        "    dataframes.append(df)\n",
        "\n",
        "combined_df = pd.concat(dataframes, ignore_index=True)\n",
        "combined_df = combined_df.sort_values('TimeStamp')\n",
        "combined_df = combined_df[combined_df['Volume'] > 0]\n",
        "columns_to_keep = ['TimeStamp', 'Price', 'Volume', 'BuyOrSell', 'MarketOrLimit', 'VWAP', 'Cumulative Volume', 'Cumulative Number of trades']\n",
        "combined_df = combined_df[columns_to_keep]\n",
        "combined_df.reset_index(inplace=True, drop=True)\n",
        "combined_df\n",
        "\n",
        "db_imbalance, thresh = ml.get_const_dollar_imbalance_bars(file_path_or_df=combined_df , expected_imbalance_window = 5000 , exp_num_ticks_init = 5000 , analyse_thresholds=True)"
      ],
      "metadata": {
        "colab": {
          "base_uri": "https://localhost:8080/"
        },
        "id": "of2PCAClqieE",
        "outputId": "cb02d885-fcac-4176-d3a2-f2d94e36a83d"
      },
      "execution_count": null,
      "outputs": [
        {
          "output_type": "stream",
          "name": "stdout",
          "text": [
            "Reading data in batches:\n",
            "Batch number: 0\n",
            "Returning bars \n",
            "\n"
          ]
        }
      ]
    }
  ]
}