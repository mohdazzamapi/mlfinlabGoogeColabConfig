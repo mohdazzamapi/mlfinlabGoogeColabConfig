{
  "nbformat": 4,
  "nbformat_minor": 0,
  "metadata": {
    "colab": {
      "provenance": [],
      "mount_file_id": "1dltvUbbCiVCDuv_63KtOwRe27kAx8IGn",
      "authorship_tag": "ABX9TyMNAckyVLx20TTkRdTyKjWx",
      "include_colab_link": true
    },
    "kernelspec": {
      "name": "python3",
      "display_name": "Python 3"
    },
    "language_info": {
      "name": "python"
    }
  },
  "cells": [
    {
      "cell_type": "markdown",
      "metadata": {
        "id": "view-in-github",
        "colab_type": "text"
      },
      "source": [
        "<a href=\"https://colab.research.google.com/github/mohdazzamapi/mlfinlabGoogeColabConfig/blob/main/AFMLTry.ipynb\" target=\"_parent\"><img src=\"https://colab.research.google.com/assets/colab-badge.svg\" alt=\"Open In Colab\"/></a>"
      ]
    },
    {
      "cell_type": "code",
      "execution_count": null,
      "metadata": {
        "id": "qkGeuFJc7oJX"
      },
      "outputs": [],
      "source": [
        "!which python\n",
        "!python --version"
      ]
    },
    {
      "cell_type": "code",
      "source": [
        "%env PYTHONPATH=\n",
        "\n",
        "!wget -c https://repo.anaconda.com/miniconda/Miniconda3-4.5.4-Linux-x86_64.sh\n",
        "!chmod +x Miniconda3-4.5.4-Linux-x86_64.sh\n",
        "!bash ./Miniconda3-4.5.4-Linux-x86_64.sh -b -f -p /usr/local\n",
        "\n",
        "!python --version\n",
        "import sys\n",
        "sys.path\n",
        "_ = (sys.path\n",
        "        .remove(\"/usr/lib/python310.zip\"))\n",
        "_ = (sys.path\n",
        "        .remove(\"/usr/lib/python3.10\"))\n",
        "_ = (sys.path\n",
        "        .remove(\"/usr/local/lib/python3.10/dist-packages\"))\n",
        "_ = (sys.path\n",
        "        .remove(\"/usr/lib/python3.10/lib-dynload\"))\n",
        "_ = (sys.path\n",
        "        .remove(\"/usr/local/lib/python3.10/dist-packages/IPython/extensions\"))\n",
        "_ = (sys.path\n",
        "        .append(\"/usr/local/lib/python3.6/site-packages\"))\n",
        "sys.path"
      ],
      "metadata": {
        "id": "h-rWIFqN8DLF"
      },
      "execution_count": null,
      "outputs": []
    },
    {
      "cell_type": "code",
      "source": [
        "!conda create -n mlfinlab python=3.6 --yes"
      ],
      "metadata": {
        "id": "whAh9EVc9CdA"
      },
      "execution_count": null,
      "outputs": []
    },
    {
      "cell_type": "code",
      "source": [
        "!source activate mlfinlab; conda install -c conda-forge scs --yes"
      ],
      "metadata": {
        "id": "3B2Dmsuc-GM3"
      },
      "execution_count": null,
      "outputs": []
    },
    {
      "cell_type": "code",
      "source": [
        "!source activate mlfinlab; conda upgrade --all --yes"
      ],
      "metadata": {
        "id": "J1FuvUvo-X0f"
      },
      "execution_count": null,
      "outputs": []
    },
    {
      "cell_type": "code",
      "source": [
        "!git clone https://github.com/mohdazzamapi/mlfinlab.git"
      ],
      "metadata": {
        "id": "XsS_yqYNCRL8"
      },
      "execution_count": null,
      "outputs": []
    },
    {
      "cell_type": "code",
      "source": [
        "!source activate mlfinlab; conda install"
      ],
      "metadata": {
        "id": "2ieA_nstCZYQ"
      },
      "execution_count": null,
      "outputs": []
    },
    {
      "cell_type": "code",
      "source": [
        "%cd /content/MLFINLAB\n",
        "!source activate mlfinlab; python setup.py install"
      ],
      "metadata": {
        "id": "AL7zm1XuCbWM"
      },
      "execution_count": null,
      "outputs": []
    },
    {
      "cell_type": "code",
      "source": [
        "!source activate mlfinlab; which python"
      ],
      "metadata": {
        "id": "fLotXyTWDBq5"
      },
      "execution_count": null,
      "outputs": []
    },
    {
      "cell_type": "code",
      "source": [
        "%%bash\n",
        "source activate mlfinlab\n",
        "conda env list\n",
        "conda list\n"
      ],
      "metadata": {
        "id": "qQcjijOHGhpb"
      },
      "execution_count": null,
      "outputs": []
    },
    {
      "cell_type": "code",
      "source": [
        "%%bash\n",
        "source activate mlfinlab\n",
        "rm -r /usr/local/envs/mlfinlab/lib/python3.6/site-packages/numpy-1.18.5-py3.6-linux-x86_64.egg"
      ],
      "metadata": {
        "id": "MiQpIIVZMXrC"
      },
      "execution_count": 68,
      "outputs": []
    },
    {
      "cell_type": "code",
      "source": [
        "!source activate mlfinlab; pip uninstall mlfinlab mlfinlab\n"
      ],
      "metadata": {
        "id": "wwjnEJFJHceF"
      },
      "execution_count": null,
      "outputs": []
    }
  ]
}